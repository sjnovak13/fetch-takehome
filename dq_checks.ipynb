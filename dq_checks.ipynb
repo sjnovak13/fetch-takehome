{
 "cells": [
  {
   "cell_type": "code",
   "execution_count": 9,
   "metadata": {},
   "outputs": [],
   "source": [
    "import pandas as pd\n",
    "import great_expectations as gx"
   ]
  },
  {
   "cell_type": "code",
   "execution_count": 51,
   "metadata": {},
   "outputs": [],
   "source": [
    "# Load Data\n",
    "brands_df = pd.read_json(\"data/brands.json\", lines=True)\n",
    "brands_df[\"_id\"] = brands_df['_id'].apply(lambda x: pd.json_normalize(x)['$oid'])\n",
    "receipts_df = pd.read_json(\"data/receipts.json\", lines=True)\n",
    "receipts_df[\"_id\"] = receipts_df['_id'].apply(lambda x: pd.json_normalize(x)['$oid'])\n",
    "users_df = pd.read_json(\"data/users.json\", lines=True)\n",
    "users_df[\"_id\"] = users_df['_id'].apply(lambda x: pd.json_normalize(x)['$oid'])\n",
    "users_df[\"lastlogin\"] = users_df['lastlogin'].apply(lambda x: pd.json_normalize(x)['$date'])"
   ]
  },
  {
   "cell_type": "code",
   "execution_count": 52,
   "metadata": {},
   "outputs": [],
   "source": [
    "# Create data contexts\n",
    "context = gx.get_context()\n",
    "data_source = context.data_sources.add_pandas(\"pandas\")\n",
    "\n",
    "brands_data_asset = data_source.add_dataframe_asset(name=\"brands_asset\")\n",
    "brands_batch_definition = brands_data_asset.add_batch_definition_whole_dataframe(\"receipts_batch_def\")\n",
    "brands_batch = brands_batch_definition.get_batch(batch_parameters={\"dataframe\": brands_df})\n",
    "\n",
    "receipts_data_asset = data_source.add_dataframe_asset(name=\"receipts_asset\")\n",
    "receipts_batch_definition = receipts_data_asset.add_batch_definition_whole_dataframe(\"receipts_batch_def\")\n",
    "receipts_batch = receipts_batch_definition.get_batch(batch_parameters={\"dataframe\": receipts_df})\n",
    "\n",
    "users_data_asset = data_source.add_dataframe_asset(name=\"users_asset\")\n",
    "users_batch_definition = users_data_asset.add_batch_definition_whole_dataframe(\"users_batch_def\")\n",
    "users_batch = users_batch_definition.get_batch(batch_parameters={\"dataframe\": users_df})"
   ]
  },
  {
   "cell_type": "code",
   "execution_count": 53,
   "metadata": {},
   "outputs": [],
   "source": [
    "# Create expectations/DQ Checks\n",
    "brand_table_expectation = gx.expectations.ExpectTableColumnsToMatchOrderedList(\n",
    "    column_list=['_id', 'barcode', 'category', 'categoryCode', 'cpg', 'name', 'topBrand', 'brandCode']\n",
    ")\n",
    "\n",
    "brand_column_expectation = gx.expectations.ExpectColumnValuesToBeOfType(column=\"barcode\", type_=\"NUMBER\")\n",
    "\n",
    "brand_uniqueness_expectation = gx.expectations.ExpectColumnValuesToBeUnique(column=\"_id\")\n",
    "\n",
    "brand_not_null_expectation = gx.expectations.ExpectColumnValuesToNotBeNull(column=\"barcode\")"
   ]
  },
  {
   "cell_type": "code",
   "execution_count": 54,
   "metadata": {},
   "outputs": [
    {
     "name": "stderr",
     "output_type": "stream",
     "text": [
      "Calculating Metrics: 100%|██████████| 2/2 [00:00<00:00, 332.70it/s]\n"
     ]
    },
    {
     "name": "stdout",
     "output_type": "stream",
     "text": [
      "True\n"
     ]
    },
    {
     "name": "stderr",
     "output_type": "stream",
     "text": [
      "Calculating Metrics: 100%|██████████| 1/1 [00:00<00:00, 166.53it/s]\n"
     ]
    },
    {
     "name": "stdout",
     "output_type": "stream",
     "text": [
      "False\n"
     ]
    },
    {
     "name": "stderr",
     "output_type": "stream",
     "text": [
      "Calculating Metrics: 100%|██████████| 10/10 [00:00<00:00, 243.89it/s]\n"
     ]
    },
    {
     "name": "stdout",
     "output_type": "stream",
     "text": [
      "True\n"
     ]
    },
    {
     "name": "stderr",
     "output_type": "stream",
     "text": [
      "Calculating Metrics: 100%|██████████| 8/8 [00:00<00:00, 98.43it/s]  \n"
     ]
    },
    {
     "name": "stdout",
     "output_type": "stream",
     "text": [
      "True\n"
     ]
    }
   ],
   "source": [
    "table_validation_result = brands_batch.validate(brand_table_expectation)\n",
    "print(table_validation_result[\"success\"])\n",
    "column_validation_result = brands_batch.validate(brand_column_expectation)\n",
    "print(column_validation_result[\"success\"])\n",
    "uniqueness_validation_result = brands_batch.validate(brand_uniqueness_expectation)\n",
    "print(uniqueness_validation_result[\"success\"])\n",
    "not_null_validation_result = brands_batch.validate(brand_not_null_expectation)\n",
    "print(not_null_validation_result[\"success\"])"
   ]
  },
  {
   "cell_type": "code",
   "execution_count": 40,
   "metadata": {},
   "outputs": [],
   "source": [
    "# Create receipt expectations/DQ Checks\n",
    "receipt_table_expectation = gx.expectations.ExpectTableColumnsToMatchOrderedList(\n",
    "    column_list=['_id', 'bonusPointsEarned', 'bonusPointsEarnedReason', 'createDate', 'dateScanned', 'finishedDate', 'modifyDate', 'pointsAwardedDate', 'pointsEarned', 'purchaseDate', 'purchasedItemCount', 'rewardsReceiptItemList', 'rewardsReceiptStatus', 'totalSpent', 'userId']\n",
    ")\n",
    "\n",
    "receipt_column_expectation = gx.expectations.ExpectColumnValuesToBeOfType(column=\"bonusPointsEarned\", type_=\"NUMBER\")\n",
    "\n",
    "receipt_uniqueness_expectation = gx.expectations.ExpectColumnValuesToBeUnique(column=\"_id\")\n",
    "\n",
    "receipt_not_null_expectation = gx.expectations.ExpectColumnValuesToNotBeNull(column=\"userId\")"
   ]
  },
  {
   "cell_type": "code",
   "execution_count": 69,
   "metadata": {},
   "outputs": [
    {
     "name": "stderr",
     "output_type": "stream",
     "text": [
      "Calculating Metrics: 100%|██████████| 2/2 [00:00<00:00, 333.49it/s]\n"
     ]
    },
    {
     "name": "stdout",
     "output_type": "stream",
     "text": [
      "True\n"
     ]
    },
    {
     "name": "stderr",
     "output_type": "stream",
     "text": [
      "Calculating Metrics: 100%|██████████| 1/1 [00:00<00:00, 333.46it/s] \n"
     ]
    },
    {
     "name": "stdout",
     "output_type": "stream",
     "text": [
      "False\n"
     ]
    },
    {
     "name": "stderr",
     "output_type": "stream",
     "text": [
      "Calculating Metrics: 100%|██████████| 10/10 [00:00<00:00, 237.28it/s]\n"
     ]
    },
    {
     "name": "stdout",
     "output_type": "stream",
     "text": [
      "True\n"
     ]
    },
    {
     "name": "stderr",
     "output_type": "stream",
     "text": [
      "Calculating Metrics: 100%|██████████| 8/8 [00:00<00:00, 277.98it/s] "
     ]
    },
    {
     "name": "stdout",
     "output_type": "stream",
     "text": [
      "True\n"
     ]
    },
    {
     "name": "stderr",
     "output_type": "stream",
     "text": [
      "\n"
     ]
    }
   ],
   "source": [
    "receipt_table_validation_result = receipts_batch.validate(receipt_table_expectation)\n",
    "print(receipt_table_validation_result[\"success\"])\n",
    "receipt_column_validation_result = receipts_batch.validate(receipt_column_expectation)\n",
    "print(receipt_column_validation_result[\"success\"])\n",
    "receipt_uniqueness_validation_result = receipts_batch.validate(receipt_uniqueness_expectation)\n",
    "print(receipt_uniqueness_validation_result[\"success\"])\n",
    "receipt_not_null_validation_result = receipts_batch.validate(receipt_not_null_expectation)\n",
    "print(receipt_not_null_validation_result[\"success\"])"
   ]
  },
  {
   "cell_type": "code",
   "execution_count": 72,
   "metadata": {},
   "outputs": [],
   "source": [
    "# Create user expectations/DQ Checks\n",
    "user_table_expectation = gx.expectations.ExpectTableColumnsToMatchOrderedList(\n",
    "    column_list=['_id', 'active', 'createdDate', 'lastLogin', 'role', 'signUpSource', 'state']\n",
    ")\n",
    "\n",
    "user_column_expectation = gx.expectations.ExpectColumnValuesToBeOfType(column=\"role\", type_=\"STRING\")\n",
    "\n",
    "user_uniqueness_expectation = gx.expectations.ExpectColumnValuesToBeUnique(column=\"_id\")\n",
    "\n",
    "user_not_null_expectation = gx.expectations.ExpectColumnValuesToNotBeNull(column=\"active\")\n",
    "\n",
    "user_unique_proportion_expectation = gx.expectations.ExpectColumnProportionOfUniqueValuesToBeBetween(\n",
    "    column=\"state\", min_value=0.5, max_value=1.0\n",
    ")"
   ]
  },
  {
   "cell_type": "code",
   "execution_count": 73,
   "metadata": {},
   "outputs": [
    {
     "name": "stderr",
     "output_type": "stream",
     "text": [
      "Calculating Metrics: 100%|██████████| 2/2 [00:00<00:00, 164.00it/s]\n"
     ]
    },
    {
     "name": "stdout",
     "output_type": "stream",
     "text": [
      "False\n"
     ]
    },
    {
     "name": "stderr",
     "output_type": "stream",
     "text": [
      "Calculating Metrics: 100%|██████████| 1/1 [00:00<00:00, 200.15it/s] \n"
     ]
    },
    {
     "name": "stdout",
     "output_type": "stream",
     "text": [
      "False\n"
     ]
    },
    {
     "name": "stderr",
     "output_type": "stream",
     "text": [
      "Calculating Metrics: 100%|██████████| 10/10 [00:00<00:00, 232.58it/s]\n"
     ]
    },
    {
     "name": "stdout",
     "output_type": "stream",
     "text": [
      "True\n"
     ]
    },
    {
     "name": "stderr",
     "output_type": "stream",
     "text": [
      "Calculating Metrics:  38%|███▊      | 3/8 [00:00<00:00, 79.02it/s]  \n"
     ]
    },
    {
     "name": "stdout",
     "output_type": "stream",
     "text": [
      "False\n"
     ]
    },
    {
     "name": "stderr",
     "output_type": "stream",
     "text": [
      "Calculating Metrics:  43%|████▎     | 3/7 [00:00<00:00, 47.62it/s]  "
     ]
    },
    {
     "name": "stdout",
     "output_type": "stream",
     "text": [
      "False\n"
     ]
    },
    {
     "name": "stderr",
     "output_type": "stream",
     "text": [
      "\n"
     ]
    }
   ],
   "source": [
    "user_table_validation_result = receipts_batch.validate(user_table_expectation)\n",
    "print(user_table_validation_result[\"success\"])\n",
    "user_column_validation_result = receipts_batch.validate(user_column_expectation)\n",
    "print(user_column_validation_result[\"success\"])\n",
    "user_uniqueness_validation_result = receipts_batch.validate(user_uniqueness_expectation)\n",
    "print(user_uniqueness_validation_result[\"success\"])\n",
    "user_not_null_validation_result = receipts_batch.validate(user_not_null_expectation)\n",
    "print(user_not_null_validation_result[\"success\"])\n",
    "user_unique_proportion_validation_result = receipts_batch.validate(user_unique_proportion_expectation)\n",
    "print(user_unique_proportion_validation_result[\"success\"])"
   ]
  },
  {
   "cell_type": "code",
   "execution_count": null,
   "metadata": {},
   "outputs": [],
   "source": []
  }
 ],
 "metadata": {
  "kernelspec": {
   "display_name": "dev",
   "language": "python",
   "name": "python3"
  },
  "language_info": {
   "codemirror_mode": {
    "name": "ipython",
    "version": 3
   },
   "file_extension": ".py",
   "mimetype": "text/x-python",
   "name": "python",
   "nbconvert_exporter": "python",
   "pygments_lexer": "ipython3",
   "version": "3.11.10"
  }
 },
 "nbformat": 4,
 "nbformat_minor": 2
}
